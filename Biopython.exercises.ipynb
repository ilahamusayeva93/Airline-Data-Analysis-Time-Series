{
  "nbformat": 4,
  "nbformat_minor": 0,
  "metadata": {
    "colab": {
      "provenance": [],
      "authorship_tag": "ABX9TyO9q8bjW4096kXQPgjAFr9M",
      "include_colab_link": true
    },
    "kernelspec": {
      "name": "python3",
      "display_name": "Python 3"
    },
    "language_info": {
      "name": "python"
    }
  },
  "cells": [
    {
      "cell_type": "markdown",
      "metadata": {
        "id": "view-in-github",
        "colab_type": "text"
      },
      "source": [
        "<a href=\"https://colab.research.google.com/github/ilahamusayeva93/Airline-Data-Analysis-Time-Series/blob/main/Biopython.exercises.ipynb\" target=\"_parent\"><img src=\"https://colab.research.google.com/assets/colab-badge.svg\" alt=\"Open In Colab\"/></a>"
      ]
    },
    {
      "cell_type": "code",
      "execution_count": 5,
      "metadata": {
        "id": "5u8-6CxlMAfn"
      },
      "outputs": [],
      "source": [
        "from Bio import Entrez, SeqIO"
      ]
    },
    {
      "cell_type": "code",
      "source": [
        "!pip install Biopython"
      ],
      "metadata": {
        "colab": {
          "base_uri": "https://localhost:8080/"
        },
        "id": "3PR2IZUnMkCm",
        "outputId": "4eb2e27c-4814-4b72-8cca-7271ac8d0e20"
      },
      "execution_count": 2,
      "outputs": [
        {
          "output_type": "stream",
          "name": "stdout",
          "text": [
            "Collecting Biopython\n",
            "  Downloading biopython-1.83-cp310-cp310-manylinux_2_17_x86_64.manylinux2014_x86_64.whl (3.1 MB)\n",
            "\u001b[2K     \u001b[90m━━━━━━━━━━━━━━━━━━━━━━━━━━━━━━━━━━━━━━━━\u001b[0m \u001b[32m3.1/3.1 MB\u001b[0m \u001b[31m13.5 MB/s\u001b[0m eta \u001b[36m0:00:00\u001b[0m\n",
            "\u001b[?25hRequirement already satisfied: numpy in /usr/local/lib/python3.10/dist-packages (from Biopython) (1.25.2)\n",
            "Installing collected packages: Biopython\n",
            "Successfully installed Biopython-1.83\n"
          ]
        }
      ]
    },
    {
      "cell_type": "code",
      "source": [
        "Entrez.email=\"ilahamusayeva06@gmail.com\"\n",
        "gene_name=\"BRCA2\"\n",
        "search_result=Entrez.esearch(db=\"nucleotide\",term=gene_name, retmax=10)\n",
        "record=Entrez.read(search_result)\n",
        "id_list=record['IdList']\n",
        "print(id_list)"
      ],
      "metadata": {
        "colab": {
          "base_uri": "https://localhost:8080/"
        },
        "id": "RuXweaKzMkFD",
        "outputId": "c0e1fdd4-8f89-4d67-c1af-aadd0eac1bd4"
      },
      "execution_count": 4,
      "outputs": [
        {
          "output_type": "stream",
          "name": "stdout",
          "text": [
            "['2688122360', '2687981466', '2687961781', '2687961779', '2687961777', '2687961775', '2687961773', '2687961771', '2687961769', '2687961767']\n"
          ]
        }
      ]
    },
    {
      "cell_type": "code",
      "source": [
        "with Entrez.efetch(db=\"nucleotide\",id=id_list[0],rettype=\"gb\",retmode=\"text\") as handle:\n",
        "  record=SeqIO.read(handle,\"genbank\")\n",
        "print(f\"Description for ID {id_list[0]}: {record.description}\")\n",
        "print(f\"Sequence for ID {id_list[0]}: {record.seq[:50]}...\")"
      ],
      "metadata": {
        "colab": {
          "base_uri": "https://localhost:8080/"
        },
        "id": "YCXu1H1ZNnhf",
        "outputId": "1e0c2f98-e4fc-44ce-e478-7f63075f8283"
      },
      "execution_count": 7,
      "outputs": [
        {
          "output_type": "stream",
          "name": "stdout",
          "text": [
            "Description for ID 2688122360: Scomber scombrus genome assembly, contig: fScoSco3.1_contig_2773_1, whole genome shotgun sequence\n",
            "Sequence for ID 2688122360: CTTCCCCAACACTGAGGAGAGGAGAGGAAGAGCAGAGGAGAGAAGAGGAG...\n"
          ]
        }
      ]
    },
    {
      "cell_type": "code",
      "source": [
        "import time\n",
        "for id in id_list:\n",
        "  with Entrez.efetch(db=\"nucleotide\",id=id,rettype=\"gb\",retmode=\"text\") as handle:\n",
        "    record=SeqIO.read(handle,\"genbank\")\n",
        "    print(f\"Processing ID: {id}\")\n",
        "    print(f\"Description: {record.description}\")\n",
        "time.sleep(1)"
      ],
      "metadata": {
        "colab": {
          "base_uri": "https://localhost:8080/"
        },
        "id": "SM22lDHdNnkO",
        "outputId": "5f5fc17a-843e-4c75-9227-8b5a113eea3f"
      },
      "execution_count": 8,
      "outputs": [
        {
          "output_type": "stream",
          "name": "stdout",
          "text": [
            "Processing ID: 2688122360\n",
            "Description: Scomber scombrus genome assembly, contig: fScoSco3.1_contig_2773_1, whole genome shotgun sequence\n",
            "Processing ID: 2687981466\n",
            "Description: PREDICTED: Prinia subflava BRCA2 and CDKN1A interacting protein (BCCIP), mRNA\n",
            "Processing ID: 2687961781\n",
            "Description: PREDICTED: Prinia subflava EMSY transcriptional repressor, BRCA2 interacting (EMSY), transcript variant X11, mRNA\n",
            "Processing ID: 2687961779\n",
            "Description: PREDICTED: Prinia subflava EMSY transcriptional repressor, BRCA2 interacting (EMSY), transcript variant X10, mRNA\n",
            "Processing ID: 2687961777\n",
            "Description: PREDICTED: Prinia subflava EMSY transcriptional repressor, BRCA2 interacting (EMSY), transcript variant X9, mRNA\n",
            "Processing ID: 2687961775\n",
            "Description: PREDICTED: Prinia subflava EMSY transcriptional repressor, BRCA2 interacting (EMSY), transcript variant X8, mRNA\n",
            "Processing ID: 2687961773\n",
            "Description: PREDICTED: Prinia subflava EMSY transcriptional repressor, BRCA2 interacting (EMSY), transcript variant X7, mRNA\n",
            "Processing ID: 2687961771\n",
            "Description: PREDICTED: Prinia subflava EMSY transcriptional repressor, BRCA2 interacting (EMSY), transcript variant X6, mRNA\n",
            "Processing ID: 2687961769\n",
            "Description: PREDICTED: Prinia subflava EMSY transcriptional repressor, BRCA2 interacting (EMSY), transcript variant X5, mRNA\n",
            "Processing ID: 2687961767\n",
            "Description: PREDICTED: Prinia subflava EMSY transcriptional repressor, BRCA2 interacting (EMSY), transcript variant X4, mRNA\n"
          ]
        }
      ]
    },
    {
      "cell_type": "code",
      "source": [
        "def calculate_gc_content(seq):\n",
        "  gc_count=seq.count(\"G\")+seq.count(\"C\")\n",
        "  gc_content=(gc_count/len(seq))*100\n",
        "  return gc_content\n",
        "\n",
        "for id in id_list:\n",
        "  with Entrez.efetch(db=\"nucleotide\",id=id, rettype=\"gb\",retmode=\"text\") as handle:\n",
        "    record=SeqIO.read(handle,\"genbank\")\n",
        "    print(f\"ID: {id}\")\n",
        "    print(f\"Length: {len(record.seq)}\")\n",
        "    print(f\"GC Content: {calculate_gc_content(record.seq)}%\")\n",
        "\n"
      ],
      "metadata": {
        "colab": {
          "base_uri": "https://localhost:8080/"
        },
        "id": "FuXtohOyNnmr",
        "outputId": "9866d0ed-6f65-4b64-b8d8-445932f304c6"
      },
      "execution_count": 13,
      "outputs": [
        {
          "output_type": "stream",
          "name": "stdout",
          "text": [
            "ID: 2688122360\n",
            "Length: 853034\n",
            "GC Content: 39.03080064803982%\n",
            "ID: 2687981466\n",
            "Length: 1271\n",
            "GC Content: 52.16365066876475%\n",
            "ID: 2687961781\n",
            "Length: 5136\n",
            "GC Content: 44.898753894081%\n",
            "ID: 2687961779\n",
            "Length: 5232\n",
            "GC Content: 44.896788990825684%\n",
            "ID: 2687961777\n",
            "Length: 5261\n",
            "GC Content: 44.896407527086104%\n",
            "ID: 2687961775\n",
            "Length: 5234\n",
            "GC Content: 45.41459686664119%\n",
            "ID: 2687961773\n",
            "Length: 5272\n",
            "GC Content: 44.87860394537178%\n",
            "ID: 2687961771\n",
            "Length: 5296\n",
            "GC Content: 45.524924471299094%\n",
            "ID: 2687961769\n",
            "Length: 5385\n",
            "GC Content: 45.51532033426184%\n",
            "ID: 2687961767\n",
            "Length: 5292\n",
            "GC Content: 45.33257747543462%\n"
          ]
        }
      ]
    },
    {
      "cell_type": "code",
      "source": [
        "print(\"Features:\")\n",
        "for feature in record.features[:5]:\n",
        "  print(feature)"
      ],
      "metadata": {
        "colab": {
          "base_uri": "https://localhost:8080/"
        },
        "id": "1MxjSKeSNnpZ",
        "outputId": "2e33ae4d-fe1e-40ee-cb8f-87a0a268d063"
      },
      "execution_count": 14,
      "outputs": [
        {
          "output_type": "stream",
          "name": "stdout",
          "text": [
            "Features:\n",
            "type: source\n",
            "location: [0:5292](+)\n",
            "qualifiers:\n",
            "    Key: chromosome, Value: ['3']\n",
            "    Key: db_xref, Value: ['taxon:208062']\n",
            "    Key: dev_stage, Value: ['adult']\n",
            "    Key: ecotype, Value: ['Zambia']\n",
            "    Key: isolate, Value: ['CZ2003']\n",
            "    Key: mol_type, Value: ['mRNA']\n",
            "    Key: organism, Value: ['Prinia subflava']\n",
            "    Key: sex, Value: ['female']\n",
            "    Key: tissue_type, Value: ['muscle, liver']\n",
            "\n",
            "type: gene\n",
            "location: [0:5292](+)\n",
            "qualifiers:\n",
            "    Key: db_xref, Value: ['GeneID:134548740']\n",
            "    Key: gene, Value: ['EMSY']\n",
            "    Key: note, Value: ['EMSY transcriptional repressor, BRCA2 interacting; Derived by automated computational analysis using gene prediction method: Gnomon. Supporting evidence includes similarity to: 1 Protein']\n",
            "\n",
            "type: CDS\n",
            "location: [95:3962](+)\n",
            "qualifiers:\n",
            "    Key: codon_start, Value: ['1']\n",
            "    Key: db_xref, Value: ['GeneID:134548740']\n",
            "    Key: gene, Value: ['EMSY']\n",
            "    Key: product, Value: ['BRCA2-interacting transcriptional repressor EMSY isoform X1']\n",
            "    Key: protein_id, Value: ['XP_063249775.1']\n",
            "    Key: translation, Value: ['MPVVWPTLLDLSRDECKRILRKLELEAYAGVISALRAQGDLTKEKKDLLGELSKVLSISTERHRAEVRRAVNDERLTTIAHNMSGPNSSSEWSIEGRRLVPLMPRLVPQTAFTVTANAVANAAVQHNASLPVPAETGNKEVVVCYSYTSTTSTPTSTPVPSGSVATVKSPRPASPASNVVILPSGSTVYVKSVSCSDDDEKPRKRRRTNSSSSSPVLLKEVPKAVTPVTKTITVPVSGSPKMSNIMQSIANSLPPHMSPVKITFTKPSTQTTNTTTQKVIIVTTSPSSTFVPNILSKSHNYAAVTKLVPTSVIASTTQKQPVVITASQSSVGSSSACSTPSCTANTIAVTAVVSSTPSVVMSTVAQGVSTSAVKVASTRLPSPKGLVGNPTQILAQFPKQHQQSPKQQLHQVQQAQQQQQQPQQQQLVPCSVAQQQPQQSQLPAGIKPTIQIKQESGVKIITQQVQPSKILPKPVTATLPSSSNSPIMVVSSNGTIMTTKLVTTPTGTQATYTRPTVSPSLGARMAGTPGAATYVKTTSGSIITVVPKSLATLGGKIISSNIVSGTTTKITTIPMTSKPNVIVVQKTTGKGTTIQGLPGKNVVTTLLNAGGEKTIQAVPAGAKPAIITATRPITKMIVTQPKGIGSTVQPATKIIPTKIVYGQQGKTQVLIKPKPVTFQATVVSEQTRQLVTETLQQASRVTETGNSSLPEVKEEPQTYTDSSSSSTESSQSSQDSQPVVHVIASRSQDWSEHEIAVDTNPTIIYQDVSSESQSATSTIKALLELQQTTAVKEKLESKPRQPTIDLSQMAVPIQMTQEKRHSPESPSIAVVESELVAEYITTDSGRQHCIGSHSEEYLHNHIVSHRSQPHQSSQPQRTLLQHVAQSQTATQTSVVVKSIPASSSGAITHIMQQALSSHTAFTKHSEQLGTEEGEVEEMDTLDPQTGLFYRSALTQSQAQKQQKLNQPQLEQTQLQVKTLQCFQTKQKQTIHLQADQIQHKLPQMPQLSIRHQKLSPLQQEQAQTKPDAQHPPHHMMAKERQLPTLVAQPQQTVVQVLAVKTTQQLPKLQQAPTAQKIYVQPQPPQSQMQLPASSEKQPASQASTETSVADILRVSMVEAQIDANIEHTIVDPPNKATSTSTAASEAESSPCTQGPRVAAVGMTAPSIPQQQTHTESSSSPPAVGPALTERKLDARGIPTTNEFMHTQNISQKKAEESSSEIVVQTIPHYSIPCHSSSNVVVEPSGLLELNNFTSQRLDDEETAMEQDVDSSTEDGTEPSPSQSSAEQS']\n",
            "\n",
            "type: polyA_site\n",
            "location: [5291:5292](+)\n",
            "qualifiers:\n",
            "    Key: experiment, Value: ['COORDINATES: polyA evidence [ECO:0006239]']\n",
            "    Key: gene, Value: ['EMSY']\n",
            "\n"
          ]
        }
      ]
    },
    {
      "cell_type": "code",
      "source": [
        "protein_seq=record.seq.translate()\n",
        "print(f\"Protein Sequence for {id}: {protein_seq[:300]}...\")"
      ],
      "metadata": {
        "colab": {
          "base_uri": "https://localhost:8080/"
        },
        "id": "EZnGC0zkNnr8",
        "outputId": "10e336b4-2405-47b9-87ad-08de33ea7768"
      },
      "execution_count": 15,
      "outputs": [
        {
          "output_type": "stream",
          "name": "stdout",
          "text": [
            "Protein Sequence for 2687961767: AGAAFGGTIGGAGARRPRGEAELCGSTDTREGCLWCGQLFWISVGMSARGSFANWNWRPMQVSSVPYVHRETLQKRRRIFLENSLKCLVFQQSDIELKFGEQLMMND*QRLHTTCLDQTALLSGP*KVVDWCH*CHDLFHKQLLLSPPTPLPMQPFSTTRLFQSPQKLETKKWWFAIPTQVPLQPQHLPLFQVAV*QQ*SPPDLPVQPPM*SSCQVEVLFTSKVSAAQMTMKSPAKDGEQILLVLPLFS*KKSRRP*LLSLKLSQCL*VGAPK*VI*CRALPTPYHHTCRL*K*PSLSPQ...\n"
          ]
        }
      ]
    },
    {
      "cell_type": "code",
      "source": [
        "import matplotlib.pyplot as plt\n",
        "import matplotlib.patches as patches"
      ],
      "metadata": {
        "id": "nNvDKS4qYDN_"
      },
      "execution_count": 16,
      "outputs": []
    },
    {
      "cell_type": "code",
      "source": [
        "!pip install biopython matplotlib\n"
      ],
      "metadata": {
        "colab": {
          "base_uri": "https://localhost:8080/"
        },
        "id": "rkrCUi15YDQV",
        "outputId": "8fd6b4c9-7628-4964-8d9e-6150d423c793"
      },
      "execution_count": 17,
      "outputs": [
        {
          "output_type": "stream",
          "name": "stdout",
          "text": [
            "Requirement already satisfied: biopython in /usr/local/lib/python3.10/dist-packages (1.83)\n",
            "Requirement already satisfied: matplotlib in /usr/local/lib/python3.10/dist-packages (3.7.1)\n",
            "Requirement already satisfied: numpy in /usr/local/lib/python3.10/dist-packages (from biopython) (1.25.2)\n",
            "Requirement already satisfied: contourpy>=1.0.1 in /usr/local/lib/python3.10/dist-packages (from matplotlib) (1.2.0)\n",
            "Requirement already satisfied: cycler>=0.10 in /usr/local/lib/python3.10/dist-packages (from matplotlib) (0.12.1)\n",
            "Requirement already satisfied: fonttools>=4.22.0 in /usr/local/lib/python3.10/dist-packages (from matplotlib) (4.49.0)\n",
            "Requirement already satisfied: kiwisolver>=1.0.1 in /usr/local/lib/python3.10/dist-packages (from matplotlib) (1.4.5)\n",
            "Requirement already satisfied: packaging>=20.0 in /usr/local/lib/python3.10/dist-packages (from matplotlib) (23.2)\n",
            "Requirement already satisfied: pillow>=6.2.0 in /usr/local/lib/python3.10/dist-packages (from matplotlib) (9.4.0)\n",
            "Requirement already satisfied: pyparsing>=2.3.1 in /usr/local/lib/python3.10/dist-packages (from matplotlib) (3.1.1)\n",
            "Requirement already satisfied: python-dateutil>=2.7 in /usr/local/lib/python3.10/dist-packages (from matplotlib) (2.8.2)\n",
            "Requirement already satisfied: six>=1.5 in /usr/local/lib/python3.10/dist-packages (from python-dateutil>=2.7->matplotlib) (1.16.0)\n"
          ]
        }
      ]
    },
    {
      "cell_type": "code",
      "source": [
        "gc_contents=[]\n",
        "for id in id_list:\n",
        "  with Entrez.efetch(db=\"nucleotide\",id=id, rettype=\"gb\",retmode=\"text\") as handle:\n",
        "    record=SeqIO.read(handle,\"genbank\")\n",
        "    gc_content=calculate_gc_content(record.seq)\n",
        "    gc_contents.append(gc_content)\n",
        "\n",
        "plt.figure(figsize=(10,6))\n",
        "plt.bar(range(len(id_list)),gc_contents,tick_label=id_list)\n",
        "plt.xticks(rotation=45,ha=\"right\")\n",
        "plt.xlabel(\"GenBank ID\")\n",
        "plt.ylabel(\"GC Content (%)\")\n",
        "plt.title(\"GC Content of Sequences\")\n",
        "plt.tight_layout()\n",
        "plt.show()"
      ],
      "metadata": {
        "colab": {
          "base_uri": "https://localhost:8080/",
          "height": 607
        },
        "id": "9qX74kzaYc8b",
        "outputId": "9509977e-1b9e-4b3a-9595-55f503784f29"
      },
      "execution_count": 19,
      "outputs": [
        {
          "output_type": "display_data",
          "data": {
            "text/plain": [
              "<Figure size 1000x600 with 1 Axes>"
            ],
            "image/png": "[encoded data removed]"
          },
          "metadata": {}
        }
      ]
    },
    {
      "cell_type": "code",
      "source": [
        "fig,ax=plt.subplots(figsize=(10,2))\n",
        "ax.set_xlim(0,len(record.seq))\n",
        "ax.set_ylim(0,1)\n",
        "\n",
        "for feature in record.features[:5]:\n",
        "  start=feature.location.start\n",
        "  end=feature.location.end\n",
        "  ax.plot([start,end],[0.5,0.5],marker='|', color='r', linestyle='-', lw=2)\n",
        "\n",
        "ax.set_yticks([])\n",
        "plt.title(\"Features in Sequence\")\n",
        "plt.xlabel(\"Position in Sequence\")\n",
        "plt.show()\n"
      ],
      "metadata": {
        "colab": {
          "base_uri": "https://localhost:8080/",
          "height": 256
        },
        "id": "UeMT_Z2dYc-K",
        "outputId": "d1005f56-edab-4ed3-be79-df09e17b4cb7"
      },
      "execution_count": 22,
      "outputs": [
        {
          "output_type": "display_data",
          "data": {
            "text/plain": [
              "<Figure size 1000x200 with 1 Axes>"
            ],
            "image/png": "[encoded data removed]"
          },
          "metadata": {}
        }
      ]
    },
    {
      "cell_type": "code",
      "source": [
        "from collections import Counter\n",
        "\n",
        "# Assuming `protein_seq` is defined as before\n",
        "\n",
        "amino_acid_counts = Counter(protein_seq)\n",
        "\n",
        "plt.figure(figsize=(10, 6))\n",
        "plt.bar(amino_acid_counts.keys(), amino_acid_counts.values())\n",
        "plt.xlabel(\"Amino Acid\")\n",
        "plt.ylabel(\"Frequency\")\n",
        "plt.title(\"Amino Acid Composition of the Translated Sequence\")\n",
        "plt.show()"
      ],
      "metadata": {
        "colab": {
          "base_uri": "https://localhost:8080/",
          "height": 564
        },
        "id": "1T4e8ygJeBmp",
        "outputId": "54779ccc-3086-44ef-d309-6b818546cb34"
      },
      "execution_count": 21,
      "outputs": [
        {
          "output_type": "display_data",
          "data": {
            "text/plain": [
              "<Figure size 1000x600 with 1 Axes>"
            ],
            "image/png": "[encoded data removed]"
          },
          "metadata": {}
        }
      ]
    },
    {
      "cell_type": "code",
      "source": [],
      "metadata": {
        "id": "fjE9P55seBoo"
      },
      "execution_count": null,
      "outputs": []
    },
    {
      "cell_type": "code",
      "source": [],
      "metadata": {
        "id": "K1VUl_tNeBqQ"
      },
      "execution_count": null,
      "outputs": []
    },
    {
      "cell_type": "code",
      "source": [],
      "metadata": {
        "id": "TSAQbQ7deBso"
      },
      "execution_count": null,
      "outputs": []
    },
    {
      "cell_type": "code",
      "source": [],
      "metadata": {
        "id": "iGVhosnWeBvb"
      },
      "execution_count": null,
      "outputs": []
    },
    {
      "cell_type": "code",
      "source": [],
      "metadata": {
        "id": "P1QFKZWweCAu"
      },
      "execution_count": null,
      "outputs": []
    },
    {
      "cell_type": "code",
      "source": [],
      "metadata": {
        "id": "KITLh_lCYdBL"
      },
      "execution_count": null,
      "outputs": []
    },
    {
      "cell_type": "code",
      "source": [],
      "metadata": {
        "id": "LMJie-3zYDR2"
      },
      "execution_count": null,
      "outputs": []
    },
    {
      "cell_type": "code",
      "source": [],
      "metadata": {
        "id": "G-oGRe2gNnuX"
      },
      "execution_count": null,
      "outputs": []
    },
    {
      "cell_type": "code",
      "source": [],
      "metadata": {
        "id": "NDUUYIX_Nnwu"
      },
      "execution_count": null,
      "outputs": []
    },
    {
      "cell_type": "code",
      "source": [],
      "metadata": {
        "id": "n0U3cG_XNnzF"
      },
      "execution_count": null,
      "outputs": []
    },
    {
      "cell_type": "code",
      "source": [],
      "metadata": {
        "id": "xmNp0QsXMkG-"
      },
      "execution_count": null,
      "outputs": []
    }
  ]
}